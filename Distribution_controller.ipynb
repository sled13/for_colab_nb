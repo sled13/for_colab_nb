{
  "nbformat": 4,
  "nbformat_minor": 0,
  "metadata": {
    "colab": {
      "provenance": [],
      "authorship_tag": "ABX9TyOdmduQghp/1SXPLhe6lYnr",
      "include_colab_link": true
    },
    "kernelspec": {
      "name": "python3",
      "display_name": "Python 3"
    },
    "language_info": {
      "name": "python"
    }
  },
  "cells": [
    {
      "cell_type": "markdown",
      "metadata": {
        "id": "view-in-github",
        "colab_type": "text"
      },
      "source": [
        "<a href=\"https://colab.research.google.com/github/sled13/for_colab_nb/blob/main/Distribution_controller.ipynb\" target=\"_parent\"><img src=\"https://colab.research.google.com/assets/colab-badge.svg\" alt=\"Open In Colab\"/></a>"
      ]
    },
    {
      "cell_type": "code",
      "execution_count": null,
      "metadata": {
        "id": "zwAsyVtDxYOU"
      },
      "outputs": [],
      "source": []
    },
    {
      "cell_type": "markdown",
      "source": [
        "# input:\n",
        "2-column distribution .csv - file with column names 'id' (string) and 'count' (non-negative float).\n",
        "1. you need upload ore generate the file"
      ],
      "metadata": {
        "id": "EZOkwx9FxpLl"
      }
    },
    {
      "cell_type": "code",
      "source": [
        "\n",
        "file_name = \"random_generated.csv\" # @param {\"type\":\"string\",\"placeholder\":\"define analyzed filr name \"}\n"
      ],
      "metadata": {
        "cellView": "form",
        "id": "R88xrle6zRAG"
      },
      "execution_count": 43,
      "outputs": []
    },
    {
      "cell_type": "markdown",
      "source": [
        "# Generate random input."
      ],
      "metadata": {
        "id": "tjaJW2Mgz_ql"
      }
    },
    {
      "cell_type": "code",
      "source": [
        "seed = 1 # @param {\"type\":\"integer\",\"placeholder\":\"define seed\"}\n",
        "level_narrow = 50 # @param {\"type\":\"number\",\"placeholder\":\"define level for bigs\"}\n",
        "\n",
        "#you may change all parameters\n",
        "#TODO: inert form filds\n",
        "n_items=100\n",
        "n_narrow=3\n",
        "n_small=5\n",
        "level_middle=15\n",
        "level_small=3\n",
        "\n",
        "\n",
        "id_preffix=\"id_\"\n",
        "import numpy as np\n",
        "import pandas as pd\n",
        "\n",
        "def generate_random_input():\n",
        "  result={}\n",
        "  np.random.seed(seed=seed)\n",
        "  n_middle=n_items-n_narrow-n_small\n",
        "\n",
        "  mu, sigma = level_small, 3*level_small # mean and standard deviation\n",
        "  smalls = np.random.normal(mu, sigma, n_small)\n",
        "  for ii in range(len(smalls)):\n",
        "    id=f\"{id_preffix}sml_{ii}\"\n",
        "    result[id]=max(0,smalls[ii])\n",
        "  mu, sigma = level_middle, 0.8*level_middle # mean and standard deviation\n",
        "  middles = np.random.normal(mu, sigma, n_middle)\n",
        "  for ii in range(len(middles)):\n",
        "    id=f\"{id_preffix}mid_{ii}\"\n",
        "    result[id]=max(level_small*0.2,middles[ii])\n",
        "  mu, sigma = level_narrow, 0.7*level_narrow # mean and standard deviation\n",
        "  bigs = np.random.normal(mu, sigma, n_narrow)\n",
        "  for ii in range(len(bigs)):\n",
        "    id=f\"{id_preffix}big_{ii}\"\n",
        "    result[id]=max(level_middle*0.3,bigs[ii])\n",
        "\n",
        " # for id in result:\n",
        " #   print(id,result[id])\n",
        "  ids=list (result.keys())\n",
        "  counts=list(result.values())\n",
        "  df_res=pd.DataFrame(data={'id':ids,'count':counts})\n",
        "\n",
        "  df_res.index.name ='record'\n",
        "  print(df_res)\n",
        "  df_res.to_csv(\"random_generated.csv\")\n",
        "\n",
        "generate_random_input()"
      ],
      "metadata": {
        "colab": {
          "base_uri": "https://localhost:8080/"
        },
        "collapsed": true,
        "cellView": "form",
        "id": "4uy2EJAs1Mcj",
        "outputId": "09547c27-9311-444f-9c09-8493ae258487"
      },
      "execution_count": 44,
      "outputs": [
        {
          "output_type": "stream",
          "name": "stdout",
          "text": [
            "               id      count\n",
            "record                      \n",
            "0        id_sml_0  17.619108\n",
            "1        id_sml_1   0.000000\n",
            "2        id_sml_2   0.000000\n",
            "3        id_sml_3   0.000000\n",
            "4        id_sml_4  10.788669\n",
            "...           ...        ...\n",
            "95      id_mid_90  15.928081\n",
            "96      id_mid_91  10.873756\n",
            "97       id_big_0  51.525890\n",
            "98       id_big_1  28.299970\n",
            "99       id_big_2  74.431121\n",
            "\n",
            "[100 rows x 2 columns]\n"
          ]
        }
      ]
    },
    {
      "cell_type": "markdown",
      "source": [
        "## Analysis of the file"
      ],
      "metadata": {
        "id": "nzvLWubZz_nv"
      }
    },
    {
      "cell_type": "code",
      "source": [
        "percentile_level = 0.03 # @param {\"type\":\"number\",\"placeholder\":\"define percentile level to cutoff\"}\n",
        "weight_level2 = 0.5 # @param {\"type\":\"number\",\"placeholder\":\"define weight_level\"}\n",
        "sevirity = \"med\" # @param [\"low\",\"med\",\"high\"]\n",
        "import numpy as np\n",
        "import pandas as pd\n",
        "import matplotlib.pyplot as plt\n",
        "\n",
        "#percentile_level=0.03\n",
        "sevirity_translator={\"low\":0.1, 'med':0.95,\"high\":1.9}\n",
        "\n",
        "\n",
        "df_=pd.read_csv(file_name)\n",
        "NN=df_.shape[0]\n",
        "all_counters=df_['count']\n",
        "plt.hist(all_counters, bins=25)\n",
        "plt.show()\n",
        "plt.clf()\n",
        "\n",
        "df_rest=df_.drop(df_[df_['count']<1].index)\n",
        "NN_rest=df_rest.shape[0]\n",
        "if NN_rest>0.1*NN:\n",
        "  print(f\"all data {NN} filtered out {NN-NN_rest} small\")\n",
        "\n",
        "else:\n",
        "  print(f\"all data {NN} filtered out 0 small\")\n",
        "  df_rest=df_\n",
        "\n",
        "df_descr=df_rest.describe(percentiles=[percentile_level,1-percentile_level])\n",
        "print(df_descr)\n",
        "\n",
        "l_bound=df_descr.loc[f'{round(100*percentile_level)}%']['count']\n",
        "r_bound=df_descr.loc[f'{round(100*(1-percentile_level))}%']['count']\n",
        "middle_counts=[count for count in all_counters if count>l_bound and count<r_bound ]\n",
        "print(f'middle intervals: l_bound={l_bound} r_bound={r_bound}; counters={len(middle_counts)}')\n",
        "\n",
        "avg_=np.mean(middle_counts)\n",
        "std_=np.std(middle_counts)\n",
        "sigma2_bound=avg_+2*std_\n",
        "sigma3_bound=avg_+3*std_\n",
        "print(f'mid_average={avg_},mid_std={std_},\\n2-sigma bound = {sigma2_bound} 3-sigma bound = {sigma3_bound}' )\n",
        "plt.hist(middle_counts, bins=25)\n",
        "plt.show()\n",
        "plt.clf()\n",
        "\n",
        "df_rest['level2']=(df_rest['count']-sigma2_bound)/std_\n",
        "df_rest['level3']=(df_rest['count']-sigma3_bound)/std_\n",
        "df_outliers = df_rest.drop(df_rest[df_rest['level2']<=0].index)\n",
        "#print(df_outliers)\n",
        "df_outliers.loc[df_outliers['level3']<0,'level3']=0\n",
        "#print(df_outliers)\n",
        "df_outliers['suspect_level']=weight_level2*df_outliers['level2']+\\\n",
        " (1-weight_level2)*df_outliers['level3']\n",
        "df_outliers.loc[df_outliers['suspect_level']>10,'suspect_level']=10\n",
        "print(df_outliers)\n",
        "df_outlayers=df_outliers.\\\n",
        "drop(df_outliers[df_outliers['suspect_level']<sevirity_translator[sevirity]].index)\n",
        "out_res=df_outlayers[['id','count','suspect_level']]\n",
        "out_res.to_csv(f\"outliers_{sevirity}={file_name}\", index=False)\n",
        "conclution_file=f\"conclusion_{sevirity}={file_name}\"\n",
        "conclution_file=conclution_file.replace('.csv','.txt')\n",
        "outl_num=out_res.shape[0]\n",
        "if outl_num<1:\n",
        "  mesage=f\"with sevirity = '{sevirity}' the file {file_name} represents 'wide' distribution\"\n",
        "else:\n",
        "   mesage=f\"with sevirity = '{sevirity}' the file {file_name} represents 'narrow' distribution with {outl_num} outlayers\"\n",
        "print(mesage)\n",
        "with open(conclution_file,'w') as out:\n",
        "  out.write(mesage)\n"
      ],
      "metadata": {
        "colab": {
          "base_uri": "https://localhost:8080/",
          "height": 1000
        },
        "cellView": "form",
        "id": "32xUMOnlFPQ9",
        "outputId": "9a06840d-72a3-48af-f642-7e40a8ff5f60"
      },
      "execution_count": 45,
      "outputs": [
        {
          "output_type": "display_data",
          "data": {
            "text/plain": [
              "<Figure size 640x480 with 1 Axes>"
            ],
            "image/png": "[encoded data removed]"
          },
          "metadata": {}
        },
        {
          "output_type": "stream",
          "name": "stdout",
          "text": [
            "all data 100 filtered out 8 small\n",
            "          record      count\n",
            "count  92.000000  92.000000\n",
            "mean   51.239130  18.111698\n",
            "std    28.003677  11.528651\n",
            "min     0.000000   1.289782\n",
            "3%      6.730000   1.798946\n",
            "50%    50.500000  17.071161\n",
            "97%    96.270000  40.479499\n",
            "max    99.000000  74.431121\n",
            "middle intervals: l_bound=1.798946364159225 r_bound=40.4794993127221; counters=86\n",
            "mid_average=17.376950184098938,mid_std=8.628968406013094,\n",
            "2-sigma bound = 34.634886996125125 3-sigma bound = 43.26385540213822\n"
          ]
        },
        {
          "output_type": "display_data",
          "data": {
            "text/plain": [
              "<Figure size 640x480 with 1 Axes>"
            ],
            "image/png": "[encoded data removed]"
          },
          "metadata": {}
        },
        {
          "output_type": "stream",
          "name": "stdout",
          "text": [
            "    record         id      count    level2    level3  suspect_level\n",
            "6        6   id_mid_1  35.937741  0.150986  0.000000       0.075493\n",
            "38      38  id_mid_33  34.917626  0.032766  0.000000       0.016383\n",
            "43      43  id_mid_38  35.309455  0.078175  0.000000       0.039087\n",
            "47      47  id_mid_42  40.203062  0.645289  0.000000       0.322644\n",
            "68      68  id_mid_63  41.226905  0.763940  0.000000       0.381970\n",
            "97      97   id_big_0  51.525890  1.957477  0.957477       1.457477\n",
            "99      99   id_big_2  74.431121  4.611934  3.611934       4.111934\n",
            "with sevirity = 'med' the file random_generated.csv represents 'narrow' distribution with 2 outlayers\n"
          ]
        },
        {
          "output_type": "display_data",
          "data": {
            "text/plain": [
              "<Figure size 640x480 with 0 Axes>"
            ]
          },
          "metadata": {}
        }
      ]
    },
    {
      "cell_type": "code",
      "source": [
        "#!zip -r distribution_experiments.zip \"/content/for_zip\""
      ],
      "metadata": {
        "colab": {
          "base_uri": "https://localhost:8080/"
        },
        "id": "MiDrrlspW6T6",
        "outputId": "b267ac37-1751-4e73-ddd3-fbd4bd93a31d"
      },
      "execution_count": 46,
      "outputs": [
        {
          "output_type": "stream",
          "name": "stdout",
          "text": [
            "  adding: content/for_zip/ (stored 0%)\n",
            "  adding: content/for_zip/.ipynb_checkpoints/ (stored 0%)\n",
            "  adding: content/for_zip/conclusion_med=random_generated.txt (deflated 14%)\n",
            "  adding: content/for_zip/outliers_med=random_generated_8.csv (stored 0%)\n",
            "  adding: content/for_zip/conclusion_high=random_generated_50.txt (deflated 13%)\n",
            "  adding: content/for_zip/conclusion_med=random_generated_15.txt (deflated 12%)\n",
            "  adding: content/for_zip/outliers_high=random_generated_15.csv (stored 0%)\n",
            "  adding: content/for_zip/outliers_low=random_generated_15.csv (deflated 39%)\n",
            "  adding: content/for_zip/conclusion_high=random_generated_8.txt (deflated 12%)\n",
            "  adding: content/for_zip/outliers_high=random_generated_100.csv (deflated 15%)\n",
            "  adding: content/for_zip/outliers_high=random_generated_8.csv (stored 0%)\n",
            "  adding: content/for_zip/outliers_med=random_generated_50.csv (deflated 18%)\n",
            "  adding: content/for_zip/random_generated_8.csv (deflated 56%)\n",
            "  adding: content/for_zip/outliers_low=random_generated_100.csv (deflated 36%)\n",
            "  adding: content/for_zip/outliers_med=random_generated_15.csv (stored 0%)\n",
            "  adding: content/for_zip/outliers_med=random_generated_100.csv (deflated 27%)\n",
            "  adding: content/for_zip/outliers_high=random_generated_50.csv (stored 0%)\n",
            "  adding: content/for_zip/conclusion_high=random_generated_100.txt (deflated 14%)\n",
            "  adding: content/for_zip/conclusion_med=random_generated_50.txt (deflated 13%)\n",
            "  adding: content/for_zip/random_generated_32.csv (deflated 56%)\n",
            "  adding: content/for_zip/conclusion_low=random_generated_8.txt (deflated 14%)\n",
            "  adding: content/for_zip/random_generated_50.csv (deflated 56%)\n",
            "  adding: content/for_zip/conclusion_low=random_generated_100.txt (deflated 14%)\n",
            "  adding: content/for_zip/conclusion_med=random_generated_100.txt (deflated 13%)\n",
            "  adding: content/for_zip/conclusion_low=random_generated_15.txt (deflated 13%)\n",
            "  adding: content/for_zip/conclusion_med=random_generated_8.txt (deflated 12%)\n",
            "  adding: content/for_zip/outliers_low=random_generated_8.csv (deflated 40%)\n",
            "  adding: content/for_zip/random_generated_100.csv (deflated 56%)\n",
            "  adding: content/for_zip/outliers_low=random_generated_50.csv (deflated 33%)\n",
            "  adding: content/for_zip/conclusion_low=random_generated_50.txt (deflated 13%)\n",
            "  adding: content/for_zip/random_generated_15.csv (deflated 56%)\n",
            "  adding: content/for_zip/conclusion_high=random_generated_15.txt (deflated 12%)\n"
          ]
        }
      ]
    }
  ]
}