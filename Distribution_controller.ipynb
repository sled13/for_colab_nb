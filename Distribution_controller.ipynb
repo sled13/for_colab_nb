{
  "nbformat": 4,
  "nbformat_minor": 0,
  "metadata": {
    "colab": {
      "provenance": [],
      "authorship_tag": "ABX9TyNHaMOep2GcvNx3d3CSW4XF",
      "include_colab_link": true
    },
    "kernelspec": {
      "name": "python3",
      "display_name": "Python 3"
    },
    "language_info": {
      "name": "python"
    }
  },
  "cells": [
    {
      "cell_type": "markdown",
      "metadata": {
        "id": "view-in-github",
        "colab_type": "text"
      },
      "source": [
        "<a href=\"https://colab.research.google.com/github/sled13/for_colab_nb/blob/main/Distribution_controller.ipynb\" target=\"_parent\"><img src=\"https://colab.research.google.com/assets/colab-badge.svg\" alt=\"Open In Colab\"/></a>"
      ]
    },
    {
      "cell_type": "code",
      "execution_count": null,
      "metadata": {
        "id": "zwAsyVtDxYOU"
      },
      "outputs": [],
      "source": []
    },
    {
      "cell_type": "markdown",
      "source": [
        "# input:\n",
        "2-column distribution .csv - file with column names 'id' (string) and 'count' (non-negative float).\n",
        "1. you need upload ore generate the file"
      ],
      "metadata": {
        "id": "EZOkwx9FxpLl"
      }
    },
    {
      "cell_type": "code",
      "source": [
        "\n",
        "file_name = \"random_generated.csv\" # @param {\"type\":\"string\",\"placeholder\":\"define analyzed filr name \"}\n"
      ],
      "metadata": {
        "id": "R88xrle6zRAG"
      },
      "execution_count": 28,
      "outputs": []
    },
    {
      "cell_type": "markdown",
      "source": [
        "# Generate random input."
      ],
      "metadata": {
        "id": "tjaJW2Mgz_ql"
      }
    },
    {
      "cell_type": "code",
      "source": [
        "seed = 1 # @param {\"type\":\"integer\",\"placeholder\":\"define seed\"}\n",
        "level_narrow = 50 # @param {\"type\":\"number\",\"placeholder\":\"define level for bigs\"}\n",
        "\n",
        "#you may change all parameters\n",
        "#TODO: inert form filds\n",
        "n_items=100\n",
        "n_narrow=3\n",
        "n_small=5\n",
        "level_middle=15\n",
        "level_small=3\n",
        "\n",
        "\n",
        "id_preffix=\"id_\"\n",
        "import numpy as np\n",
        "import pandas as pd\n",
        "\n",
        "def generate_random_input():\n",
        "  result={}\n",
        "  np.random.seed(seed=seed)\n",
        "  n_middle=n_items-n_narrow-n_small\n",
        "\n",
        "  mu, sigma = level_small, 3*level_small # mean and standard deviation\n",
        "  smalls = np.random.normal(mu, sigma, n_small)\n",
        "  for ii in range(len(smalls)):\n",
        "    id=f\"{id_preffix}sml_{ii}\"\n",
        "    result[id]=max(0,smalls[ii])\n",
        "  mu, sigma = level_middle, 0.8*level_middle # mean and standard deviation\n",
        "  middles = np.random.normal(mu, sigma, n_middle)\n",
        "  for ii in range(len(middles)):\n",
        "    id=f\"{id_preffix}mid_{ii}\"\n",
        "    result[id]=max(level_small*0.2,middles[ii])\n",
        "  mu, sigma = level_narrow, 0.7*level_narrow # mean and standard deviation\n",
        "  bigs = np.random.normal(mu, sigma, n_narrow)\n",
        "  for ii in range(len(bigs)):\n",
        "    id=f\"{id_preffix}big_{ii}\"\n",
        "    result[id]=max(level_middle*0.3,bigs[ii])\n",
        "\n",
        " # for id in result:\n",
        " #   print(id,result[id])\n",
        "  ids=list (result.keys())\n",
        "  counts=list(result.values())\n",
        "  df_res=pd.DataFrame(data={'id':ids,'count':counts})\n",
        "\n",
        "  df_res.index.name ='record'\n",
        "  print(df_res)\n",
        "  df_res.to_csv(\"random_generated.csv\")\n",
        "\n",
        "generate_random_input()"
      ],
      "metadata": {
        "colab": {
          "base_uri": "https://localhost:8080/"
        },
        "collapsed": true,
        "cellView": "form",
        "id": "4uy2EJAs1Mcj",
        "outputId": "d4b53cbb-64dc-4c0e-bdb5-7ac5b0149834"
      },
      "execution_count": 80,
      "outputs": [
        {
          "output_type": "stream",
          "name": "stdout",
          "text": [
            "               id      count\n",
            "record                      \n",
            "0        id_sml_0  17.619108\n",
            "1        id_sml_1   0.000000\n",
            "2        id_sml_2   0.000000\n",
            "3        id_sml_3   0.000000\n",
            "4        id_sml_4  10.788669\n",
            "...           ...        ...\n",
            "95      id_mid_90  15.928081\n",
            "96      id_mid_91  10.873756\n",
            "97       id_big_0  51.525890\n",
            "98       id_big_1  28.299970\n",
            "99       id_big_2  74.431121\n",
            "\n",
            "[100 rows x 2 columns]\n"
          ]
        }
      ]
    },
    {
      "cell_type": "markdown",
      "source": [
        "## Analysis of the file"
      ],
      "metadata": {
        "id": "nzvLWubZz_nv"
      }
    },
    {
      "cell_type": "code",
      "source": [
        "percentile_level = 0.03 # @param {\"type\":\"number\",\"placeholder\":\"define percentile level to cutoff\"}\n",
        "weight_level2 = 0.5 # @param {\"type\":\"number\",\"placeholder\":\"define weight_level\"}\n",
        "sevirity = \"high\" # @param [\"low\",\"med\",\"high\"]\n",
        "import numpy as np\n",
        "import pandas as pd\n",
        "import matplotlib.pyplot as plt\n",
        "\n",
        "#percentile_level=0.03\n",
        "sevirity_translator={\"low\":0, 'med':0.5,\"high\":1}\n",
        "\n",
        "\n",
        "df_=pd.read_csv(file_name)\n",
        "df_descr=df_.describe(percentiles=[percentile_level,1-percentile_level])\n",
        "print(df_descr)\n",
        "print(df_descr.index)\n",
        "\n",
        "all_counters=df_['count']\n",
        "plt.hist(all_counters, bins=25)\n",
        "plt.show()\n",
        "plt.clf()\n",
        "\n",
        "l_bound=df_descr.loc[f'{round(100*percentile_level)}%']['count']\n",
        "r_bound=df_descr.loc[f'{round(100*(1-percentile_level))}%']['count']\n",
        "print(f'l_bound={l_bound} r_bound={r_bound}')\n",
        "\n",
        "middle_counts=[count for count in all_counters if count>l_bound and count<r_bound ]\n",
        "avg_=np.mean(middle_counts)\n",
        "std_=np.std(middle_counts)\n",
        "sigma2_bound=avg_+2*std_\n",
        "sigma3_bound=avg_+3*std_\n",
        "print(f'mid_average={avg_},mid_std={std_},\\n2-sigma bound = {sigma2_bound} 3-sigma bound = {sigma3_bound}' )\n",
        "plt.hist(middle_counts, bins=25)\n",
        "plt.show()\n",
        "plt.clf()\n",
        "\n",
        "df_['level2']=(df_['count']-sigma2_bound)/std_\n",
        "df_['level3']=(df_['count']-sigma3_bound)/std_\n",
        "df_outlayers = df_.drop(df_[df_['level2']<=0].index)\n",
        "#print(df_outlayers)\n",
        "df_outlayers.loc[df_outlayers['level3']<0,'level3']=0\n",
        "#print(df_outlayers)\n",
        "df_outlayers['suspect_level']=weight_level2*df_outlayers['level2']+\\\n",
        " (1-weight_level2)*df_outlayers['level3']\n",
        "df_outlayers.loc[df_outlayers['suspect_level']>10,'suspect_level']=10\n",
        "print(df_outlayers)\n",
        "df_outlayers=df_outlayers.\\\n",
        "drop(df_outlayers[df_outlayers['suspect_level']<sevirity_translator[sevirity]].index)\n",
        "df_outlayers[['id','count','suspect_level']].to_csv(f\"outlayers_{sevirity}.csv\", index=False)\n"
      ],
      "metadata": {
        "colab": {
          "base_uri": "https://localhost:8080/",
          "height": 1000
        },
        "cellView": "form",
        "id": "32xUMOnlFPQ9",
        "outputId": "9f032d51-3171-4a81-996c-149b6e9c0508"
      },
      "execution_count": 85,
      "outputs": [
        {
          "output_type": "stream",
          "name": "stdout",
          "text": [
            "           record       count\n",
            "count  100.000000  100.000000\n",
            "mean    49.500000   16.692763\n",
            "std     29.011492   12.064997\n",
            "min      0.000000    0.000000\n",
            "3%       2.970000    0.582000\n",
            "50%     49.500000   16.178092\n",
            "97%     96.030000   40.233777\n",
            "max     99.000000   74.431121\n",
            "Index(['count', 'mean', 'std', 'min', '3%', '50%', '97%', 'max'], dtype='object')\n"
          ]
        },
        {
          "output_type": "display_data",
          "data": {
            "text/plain": [
              "<Figure size 640x480 with 1 Axes>"
            ],
            "image/png": "[encoded data removed]"
          },
          "metadata": {}
        },
        {
          "output_type": "stream",
          "name": "stdout",
          "text": [
            "l_bound=0.582 r_bound=40.23377693496566\n",
            "mid_average=15.979705778149624,mid_std=9.440813911621877,\n",
            "2-sigma bound = 34.861333601393376 3-sigma bound = 44.30214751301526\n"
          ]
        },
        {
          "output_type": "display_data",
          "data": {
            "text/plain": [
              "<Figure size 640x480 with 1 Axes>"
            ],
            "image/png": "[encoded data removed]"
          },
          "metadata": {}
        },
        {
          "output_type": "stream",
          "name": "stdout",
          "text": [
            "    record         id      count    level2    level3  suspect_level\n",
            "6        6   id_mid_1  35.937741  0.114016  0.000000       0.057008\n",
            "38      38  id_mid_33  34.917626  0.005963  0.000000       0.002981\n",
            "43      43  id_mid_38  35.309455  0.047466  0.000000       0.023733\n",
            "47      47  id_mid_42  40.203062  0.565812  0.000000       0.282906\n",
            "68      68  id_mid_63  41.226905  0.674261  0.000000       0.337130\n",
            "97      97   id_big_0  51.525890  1.765161  0.765161       1.265161\n",
            "99      99   id_big_2  74.431121  4.191353  3.191353       3.691353\n"
          ]
        },
        {
          "output_type": "display_data",
          "data": {
            "text/plain": [
              "<Figure size 640x480 with 0 Axes>"
            ]
          },
          "metadata": {}
        }
      ]
    }
  ]
}